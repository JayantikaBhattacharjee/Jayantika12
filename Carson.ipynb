{
 "cells": [
  {
   "cell_type": "code",
   "execution_count": 1,
   "metadata": {},
   "outputs": [
    {
     "name": "stdout",
     "output_type": "stream",
     "text": [
      "Enter first number: 10\n",
      "Enter second number: 6\n",
      "Enter the operator: /\n",
      "1.6666666666666667\n"
     ]
    }
   ],
   "source": [
    "#Creating a simple calculator\n",
    "def add(a,b):\n",
    "    result=a+b\n",
    "    print(result)\n",
    "def sub(a,b):\n",
    "    result=a-b\n",
    "    print(result)\n",
    "def mul(a,b):\n",
    "    result=a*b\n",
    "    print(result)\n",
    "def divi(a,b):\n",
    "    result=a/b\n",
    "    print(result)\n",
    "a=int(input(\"Enter first number: \"))\n",
    "b=int(input(\"Enter second number: \"))\n",
    "oprt=input(\"Enter the operator: \")\n",
    "if oprt==\"+\":\n",
    "    add(a,b)\n",
    "elif oprt==\"-\":\n",
    "    sub(a,b)\n",
    "elif oprt==\"*\":\n",
    "    mul(a,b)\n",
    "elif oprt==\"/\":\n",
    "    divi(a,b)\n",
    "else:\n",
    "    print(\"Syntex error\")"
   ]
  },
  {
   "cell_type": "code",
   "execution_count": null,
   "metadata": {},
   "outputs": [],
   "source": []
  }
 ],
 "metadata": {
  "kernelspec": {
   "display_name": "Python 3",
   "language": "python",
   "name": "python3"
  },
  "language_info": {
   "codemirror_mode": {
    "name": "ipython",
    "version": 3
   },
   "file_extension": ".py",
   "mimetype": "text/x-python",
   "name": "python",
   "nbconvert_exporter": "python",
   "pygments_lexer": "ipython3",
   "version": "3.8.5"
  }
 },
 "nbformat": 4,
 "nbformat_minor": 4
}
